{
 "cells": [
  {
   "cell_type": "markdown",
   "metadata": {},
   "source": [
    "# Eddy Current Brake\n",
    "This script is to replicate the analytical plot in Fig. 6 of the 2019 journal paper 'Characteristic Analysis of the Peak Braking Force and the Critical Speed of Eddy Current Braking in a High-Speed Maglev' authored by Chuntao Chen, Jie Xu, Xibo Yuan and Xinzhen Wu. "
   ]
  },
  {
   "cell_type": "code",
   "execution_count": 1,
   "metadata": {},
   "outputs": [],
   "source": [
    "import numpy as np\n",
    "import matplotlib.pyplot as plt"
   ]
  },
  {
   "cell_type": "code",
   "execution_count": 2,
   "metadata": {},
   "outputs": [],
   "source": [
    "# Constants\n",
    "MU0 = 4 * np.pi * 10**(-7)   # Permeability of free space in H/m\n",
    "\n",
    "# Model parameters\n",
    "p = 6                        # Number of pole pairs (no unit)\n",
    "vmax = 272                   # Maximum operating speed in m/s\n",
    "j = 1.2 * 10**7              # Exciting current density in A/m2\n",
    "kf = 0.687                   # Fill factor of coil slot (no unit)\n",
    "bc = 0.0153                  # Width of exciting coil in m\n",
    "hc = 0.115                   # Height of exciting coil in m\n",
    "tau = 0.1                    # Pole pitch in m \n",
    "delta = 0.01                 # Air gap length in m\n",
    "bp = 0.0692                  # Pole width in m\n",
    "bg = 0.005                   # Thickness of induction plate in m\n",
    "w = 0.2                      # Model depth in m\n",
    "sigma = 10**6                # Induction plate conductivity in S/m\n",
    "\n",
    "# Variables\n",
    "v = np.linspace(0,vmax,13)  # Velocity in m/s\n",
    "no = np.array([1,3,5])      # Number of harmonic (no unit)"
   ]
  },
  {
   "cell_type": "code",
   "execution_count": 3,
   "metadata": {},
   "outputs": [],
   "source": [
    "# Calculate Carter coefficient and modified air gap length\n",
    "\n",
    "coef = (tau - bp) / (2 * delta)   # Sumarise quotient for use below\n",
    "gamma = 4 / np.pi * (coef * np.arctan(coef) - np.log(np.sqrt(1 + coef**2)))\n",
    "kc = tau / (tau - gamma * delta)  # Carter coefficient (no unit)\n",
    "deltamod = delta * kc             # Modified air gap length in m "
   ]
  },
  {
   "cell_type": "code",
   "execution_count": 4,
   "metadata": {},
   "outputs": [],
   "source": [
    "# Calculate total length of eddy current braking device \n",
    "\n",
    "lp = 2 * p * tau  # Total length in m"
   ]
  },
  {
   "cell_type": "code",
   "execution_count": 5,
   "metadata": {},
   "outputs": [],
   "source": [
    "# Calculate components an of Fourier decomposition\n",
    "\n",
    "def integ(upper,lower):\n",
    "    \"\"\" Calculates a definite integral of the form occuring  \n",
    "    in equation 15 in a specified inteval.\n",
    "    upper ... upper boundary of the interval\n",
    "    lower ... lower boundary of the interval\n",
    "    \"\"\"\n",
    "    return (1/npitau * (np.sin(npitau * upper) - np.sin(npitau * lower)))\n",
    "\n",
    "fw = np.zeros([len(v)])\n",
    "fwstore = np.zeros([len(no),len(v)])\n",
    "\n",
    "for i in range(0,len(no)):\n",
    "    S = hc * bc * kf           # Cross-sectional area of exciting coil in m**2\n",
    "    # S = np.pi / 4 * bp**2    # Cross-sectional area of exciting coil in m**2\n",
    "    c = tau - (2 * bc + bp)    # Gap between coils in m\n",
    "    npitau = no[i] * np.pi / tau   # Sumarise quotient for later use\n",
    "    b = j * S * kf / bc        # Linear current density constant in A/m\n",
    "    k = np.pi / tau * (integ(c/2+bc, c/2) - integ(tau-c/2, tau-(c/2+bc))) \n",
    "    an = 2 * b * k / np.pi    \n",
    "\n",
    "    # Calculate the nth harmonic of the braking force FWn\n",
    "\n",
    "    summand = npitau * np.sqrt( npitau**2 + MU0**2 * sigma**2 * v**2)\n",
    "    m = np.sqrt((npitau**2 + summand) / 2)\n",
    "    n = np.sqrt((-npitau**2 + summand) / 2)\n",
    "\n",
    "    y1 = np.cosh(npitau * deltamod) * np.sinh(m * bg) * np.cos(n * bg)\n",
    "    y2 = np.cosh(npitau * deltamod) * np.cosh(m * bg) * np.sin(n * bg)\n",
    "    y3 = np.sinh(npitau * deltamod) * np.cosh(m * bg) * np.cos(n * bg)\n",
    "    y4 = np.sinh(npitau * deltamod) * np.sinh(m * bg) * np.sin(n * bg)\n",
    "\n",
    "    fwn = -(npitau * lp * w * MU0 * an**2 * (m * np.sin(2 * n * bg) \\\n",
    "                                             + n * np.sinh(2 * m * bg))) \\\n",
    "           / (2 * ((m * y1 - n * y2 + npitau * y3)**2 \\\n",
    "                 + (m * y2 + n * y1 + npitau * y4)**2))\n",
    "    fwstore[i,:] = fwn\n",
    "    fw = fw + fwstore[i,:]"
   ]
  },
  {
   "cell_type": "code",
   "execution_count": 6,
   "metadata": {
    "scrolled": false
   },
   "outputs": [
    {
     "data": {
      "image/png": "[encoded data removed]",
      "text/plain": [
       "<Figure size 432x288 with 1 Axes>"
      ]
     },
     "metadata": {
      "needs_background": "light"
     },
     "output_type": "display_data"
    }
   ],
   "source": [
    "# Plot nth harmonic of the braking force FWn\n",
    "xtitle = '$v$ [m/s]'\n",
    "ytitle = '$F$ [N]'\n",
    "\n",
    "fig, ax = plt.subplots(nrows=1, ncols=1)\n",
    "ax.plot(v, fw, color='red', label='FW analytical')\n",
    "for i in range(0,len(no)):\n",
    "    ax.plot(v, fwstore[i,:], label='FW{} analytical'.format(no[i]))\n",
    "ax.set_xlabel(xtitle, fontsize='large')\n",
    "ax.set_ylabel(ytitle, fontsize='large')\n",
    "ax.set_xlim([0,vmax])\n",
    "ax.set_ylim([0,-4.1*10**4])\n",
    "ax.legend()\n",
    "ax.grid()\n",
    "ax.ticklabel_format(style='sci', axis='y', scilimits=(0,0), useMathText=True)\n",
    "ax.tick_params(labelright=True)"
   ]
  }
 ],
 "metadata": {
  "kernelspec": {
   "display_name": "Python 3",
   "language": "python",
   "name": "python3"
  },
  "language_info": {
   "codemirror_mode": {
    "name": "ipython",
    "version": 3
   },
   "file_extension": ".py",
   "mimetype": "text/x-python",
   "name": "python",
   "nbconvert_exporter": "python",
   "pygments_lexer": "ipython3",
   "version": "3.8.3"
  }
 },
 "nbformat": 4,
 "nbformat_minor": 4
}
